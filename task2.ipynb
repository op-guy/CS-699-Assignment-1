{
 "cells": [
  {
   "cell_type": "code",
   "execution_count": 133,
   "metadata": {},
   "outputs": [],
   "source": [
    "import numpy as np\n",
    "import os\n",
    "import matplotlib\n",
    "from matplotlib import pyplot as plt\n",
    "from scipy import signal\n",
    "\n",
    "GRAY_CONVERTER = np.array([0.2989, 0.5870, 0.1140])\n",
    "\n",
    "train_path = r'.\\Group_1\\train'\n",
    "test_path = r'.\\Group_1\\test'\n"
   ]
  },
  {
   "cell_type": "code",
   "execution_count": 134,
   "metadata": {},
   "outputs": [],
   "source": [
    "def relu(x):\n",
    "    return np.where(x >= 0, x, 0)\n",
    "\n",
    "\n",
    "def sigmoid(x):\n",
    "    return np.apply_along_axis(lambda a: 1 / (1 + np.exp(-a)), 0, x)\n",
    "\n",
    "\n",
    "def convert_to_gray(image):\n",
    "    return np.dot(image[..., :3], GRAY_CONVERTER)\n"
   ]
  },
  {
   "cell_type": "code",
   "execution_count": 135,
   "metadata": {},
   "outputs": [],
   "source": [
    "class ConvolutionLayer:\n",
    "    def __init__(self, F, K):\n",
    "        self.F = F\n",
    "        self.K = K\n",
    "        self.filters = np.random.normal(scale=0.3, size=(K, F, F))\n",
    "\n",
    "    def convolve(self, input):\n",
    "        H, W = input.shape\n",
    "\n",
    "        for i in range(H - self.F + 1):\n",
    "            for j in range(W - self.F + 1):\n",
    "                section = input[i: i + self.F, j: j + self.F]\n",
    "                yield section, i, j\n",
    "\n",
    "    def calculate(self, input):\n",
    "        H, W = input.shape\n",
    "\n",
    "        feature_maps = np.zeros((H - self.F + 1, W - self.F + 1, self.K))\n",
    "\n",
    "        for section, i, j in self.convolve(input):\n",
    "            feature_maps[i, j] = np.sum(section * self.filters, axis=(1, 2))\n",
    "\n",
    "        return feature_maps\n"
   ]
  },
  {
   "cell_type": "code",
   "execution_count": 136,
   "metadata": {},
   "outputs": [],
   "source": [
    "conv_layer1 = ConvolutionLayer(3, 32)\n",
    "conv_layer2 = ConvolutionLayer(3, 64)\n"
   ]
  },
  {
   "cell_type": "code",
   "execution_count": 137,
   "metadata": {},
   "outputs": [],
   "source": [
    "image = matplotlib.image.imread(os.path.join(train_path, 'bird', '0000.jpg'))\n"
   ]
  },
  {
   "cell_type": "code",
   "execution_count": 138,
   "metadata": {},
   "outputs": [],
   "source": [
    "grayscale_image = convert_to_gray(image)\n"
   ]
  },
  {
   "cell_type": "code",
   "execution_count": 139,
   "metadata": {},
   "outputs": [],
   "source": [
    "output_layer1 = conv_layer1.calculate(grayscale_image)\n"
   ]
  },
  {
   "cell_type": "code",
   "execution_count": 140,
   "metadata": {},
   "outputs": [],
   "source": [
    "activated_output_layer1 = relu(output_layer1)"
   ]
  }
 ],
 "metadata": {
  "interpreter": {
   "hash": "c3afff13452cee94f1d88eb459e846ba508eb564adb6568e1841af2d1922e5d2"
  },
  "kernelspec": {
   "display_name": "Python 3.9.10 64-bit ('venv': venv)",
   "language": "python",
   "name": "python3"
  },
  "language_info": {
   "codemirror_mode": {
    "name": "ipython",
    "version": 3
   },
   "file_extension": ".py",
   "mimetype": "text/x-python",
   "name": "python",
   "nbconvert_exporter": "python",
   "pygments_lexer": "ipython3",
   "version": "3.9.10"
  },
  "orig_nbformat": 4
 },
 "nbformat": 4,
 "nbformat_minor": 2
}
